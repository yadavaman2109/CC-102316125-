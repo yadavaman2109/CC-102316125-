{
  "nbformat": 4,
  "nbformat_minor": 0,
  "metadata": {
    "colab": {
      "provenance": []
    },
    "kernelspec": {
      "name": "python3",
      "display_name": "Python 3"
    },
    "language_info": {
      "name": "python"
    }
  },
  "cells": [
    {
      "cell_type": "code",
      "execution_count": 2,
      "metadata": {
        "colab": {
          "base_uri": "https://localhost:8080/"
        },
        "id": "Cz3WGDinIuJg",
        "outputId": "b2acf0a5-7e5a-4c53-db65-51ba284e1631"
      },
      "outputs": [
        {
          "output_type": "stream",
          "name": "stdout",
          "text": [
            "Requirement already satisfied: nltk in /usr/local/lib/python3.11/dist-packages (3.9.1)\n",
            "Requirement already satisfied: click in /usr/local/lib/python3.11/dist-packages (from nltk) (8.1.8)\n",
            "Requirement already satisfied: joblib in /usr/local/lib/python3.11/dist-packages (from nltk) (1.4.2)\n",
            "Requirement already satisfied: regex>=2021.8.3 in /usr/local/lib/python3.11/dist-packages (from nltk) (2024.11.6)\n",
            "Requirement already satisfied: tqdm in /usr/local/lib/python3.11/dist-packages (from nltk) (4.67.1)\n"
          ]
        }
      ],
      "source": [
        "\n",
        "!pip install nltk\n",
        "\n"
      ]
    },
    {
      "cell_type": "code",
      "source": [
        "\n",
        "sentence=\"\"\"was a Canadian amateur bryologist specializing in species native to Nova Scotia. Early in her career she was involved with gathering sphagnum moss to be used as surgical dressings during World War I, when cotton was in short supply. After the war, she researched sses from around the world, publishing papers on materials she had collected herself as well as cataloging samples collected by others\n",
        " her collections are no\"\"\"\n",
        "\n"
      ],
      "metadata": {
        "id": "KtuyyV0vI1uk"
      },
      "execution_count": 3,
      "outputs": []
    },
    {
      "cell_type": "code",
      "source": [
        "import string\n",
        "text_low = sentence.lower()\n",
        "no_punc = text_low.translate(str.maketrans('', '', string.punctuation))\n",
        "print(no_punc)\n"
      ],
      "metadata": {
        "colab": {
          "base_uri": "https://localhost:8080/"
        },
        "id": "XtFm8KjNI6Oc",
        "outputId": "8cf68b05-8ec2-46ad-dca5-c292280c2d7c"
      },
      "execution_count": 4,
      "outputs": [
        {
          "output_type": "stream",
          "name": "stdout",
          "text": [
            "was a canadian amateur bryologist specializing in species native to nova scotia early in her career she was involved with gathering sphagnum moss to be used as surgical dressings during world war i when cotton was in short supply after the war she researched sses from around the world publishing papers on materials she had collected herself as well as cataloging samples collected by others\n",
            " her collections are no\n"
          ]
        }
      ]
    },
    {
      "cell_type": "code",
      "source": [
        "import nltk\n",
        "from nltk.tokenize import sent_tokenize, word_tokenize\n",
        "nltk.download('punkt')\n",
        "\n",
        "nltk.download('punkt_tab')\n"
      ],
      "metadata": {
        "colab": {
          "base_uri": "https://localhost:8080/"
        },
        "id": "7u8lq5LEI9Pq",
        "outputId": "58654a51-ef46-476f-e83c-8bfd7954c381"
      },
      "execution_count": 5,
      "outputs": [
        {
          "output_type": "stream",
          "name": "stderr",
          "text": [
            "[nltk_data] Downloading package punkt to /root/nltk_data...\n",
            "[nltk_data]   Unzipping tokenizers/punkt.zip.\n",
            "[nltk_data] Downloading package punkt_tab to /root/nltk_data...\n",
            "[nltk_data]   Unzipping tokenizers/punkt_tab.zip.\n"
          ]
        },
        {
          "output_type": "execute_result",
          "data": {
            "text/plain": [
              "True"
            ]
          },
          "metadata": {},
          "execution_count": 5
        }
      ]
    },
    {
      "cell_type": "code",
      "source": [
        "words = word_tokenize(no_punc)\n",
        "sent = sent_tokenize(sentence)\n",
        "print(\"Tokenized words:  \", words,\"\\n\")\n",
        "print(\"Tokenized Sentences:  \", sent,\"\\n\")\n"
      ],
      "metadata": {
        "colab": {
          "base_uri": "https://localhost:8080/"
        },
        "id": "Kcfo4V5GI_1U",
        "outputId": "c63eb649-64e1-424a-9b41-28520c3fccee"
      },
      "execution_count": 6,
      "outputs": [
        {
          "output_type": "stream",
          "name": "stdout",
          "text": [
            "Tokenized words:   ['was', 'a', 'canadian', 'amateur', 'bryologist', 'specializing', 'in', 'species', 'native', 'to', 'nova', 'scotia', 'early', 'in', 'her', 'career', 'she', 'was', 'involved', 'with', 'gathering', 'sphagnum', 'moss', 'to', 'be', 'used', 'as', 'surgical', 'dressings', 'during', 'world', 'war', 'i', 'when', 'cotton', 'was', 'in', 'short', 'supply', 'after', 'the', 'war', 'she', 'researched', 'sses', 'from', 'around', 'the', 'world', 'publishing', 'papers', 'on', 'materials', 'she', 'had', 'collected', 'herself', 'as', 'well', 'as', 'cataloging', 'samples', 'collected', 'by', 'others', 'her', 'collections', 'are', 'no'] \n",
            "\n",
            "Tokenized Sentences:   ['was a Canadian amateur bryologist specializing in species native to Nova Scotia.', 'Early in her career she was involved with gathering sphagnum moss to be used as surgical dressings during World War I, when cotton was in short supply.', 'After the war, she researched sses from around the world, publishing papers on materials she had collected herself as well as cataloging samples collected by others\\n her collections are no'] \n",
            "\n"
          ]
        }
      ]
    },
    {
      "cell_type": "code",
      "source": [
        "from nltk.corpus import stopwords\n",
        "nltk.download('stopwords')\n",
        "stop_words = set(stopwords.words('english'))\n"
      ],
      "metadata": {
        "colab": {
          "base_uri": "https://localhost:8080/"
        },
        "id": "1GT-QWTMJxt0",
        "outputId": "b7a3ccde-095f-484a-ea8f-64529de80b53"
      },
      "execution_count": 7,
      "outputs": [
        {
          "output_type": "stream",
          "name": "stderr",
          "text": [
            "[nltk_data] Downloading package stopwords to /root/nltk_data...\n",
            "[nltk_data]   Unzipping corpora/stopwords.zip.\n"
          ]
        }
      ]
    },
    {
      "cell_type": "code",
      "source": [
        "stopwordremove=[w for w in words if w not in stop_words]\n",
        "print(stopwordremove)"
      ],
      "metadata": {
        "colab": {
          "base_uri": "https://localhost:8080/"
        },
        "id": "LGh1Xu2TKOTZ",
        "outputId": "c34d7d22-a353-42d0-894f-254cc43df8b9"
      },
      "execution_count": 8,
      "outputs": [
        {
          "output_type": "stream",
          "name": "stdout",
          "text": [
            "['canadian', 'amateur', 'bryologist', 'specializing', 'species', 'native', 'nova', 'scotia', 'early', 'career', 'involved', 'gathering', 'sphagnum', 'moss', 'used', 'surgical', 'dressings', 'world', 'war', 'cotton', 'short', 'supply', 'war', 'researched', 'sses', 'around', 'world', 'publishing', 'papers', 'materials', 'collected', 'well', 'cataloging', 'samples', 'collected', 'others', 'collections']\n"
          ]
        }
      ]
    },
    {
      "cell_type": "code",
      "source": [
        "from nltk.probability import FreqDist\n",
        "dist=FreqDist(stopwordremove)\n",
        "print(\"\\n word \")\n",
        "for word,frequency in dist.items():\n",
        "  print(word,frequency)"
      ],
      "metadata": {
        "colab": {
          "base_uri": "https://localhost:8080/"
        },
        "id": "Gqw6V5PDKgzG",
        "outputId": "36c68d5f-054f-4a35-afd3-104f29b2e537"
      },
      "execution_count": 9,
      "outputs": [
        {
          "output_type": "stream",
          "name": "stdout",
          "text": [
            "\n",
            " word \n",
            "canadian 1\n",
            "amateur 1\n",
            "bryologist 1\n",
            "specializing 1\n",
            "species 1\n",
            "native 1\n",
            "nova 1\n",
            "scotia 1\n",
            "early 1\n",
            "career 1\n",
            "involved 1\n",
            "gathering 1\n",
            "sphagnum 1\n",
            "moss 1\n",
            "used 1\n",
            "surgical 1\n",
            "dressings 1\n",
            "world 2\n",
            "war 2\n",
            "cotton 1\n",
            "short 1\n",
            "supply 1\n",
            "researched 1\n",
            "sses 1\n",
            "around 1\n",
            "publishing 1\n",
            "papers 1\n",
            "materials 1\n",
            "collected 2\n",
            "well 1\n",
            "cataloging 1\n",
            "samples 1\n",
            "others 1\n",
            "collections 1\n"
          ]
        }
      ]
    },
    {
      "cell_type": "code",
      "source": [
        "\n",
        "from nltk.stem import PorterStemmer, LancasterStemmer, WordNetLemmatizer\n",
        "\n",
        "nltk.download('wordnet')\n",
        "nltk.download('omw-1.4') #lematizer\n",
        "porter = PorterStemmer()\n",
        "lancaster = LancasterStemmer()\n",
        "lemmatizer = WordNetLemmatizer()\n",
        "\n",
        "portered = [porter.stem(w) for w in stopwordremove]\n",
        "lancastered = [lancaster.stem(w) for w in stopwordremove]\n",
        "lemmatized = [lemmatizer.lemmatize(w) for w in stopwordremove]\n",
        "print(portered)\n"
      ],
      "metadata": {
        "colab": {
          "base_uri": "https://localhost:8080/"
        },
        "id": "CgiLM6KYLJSM",
        "outputId": "952e956a-f54d-4f2d-e989-ce9f6da57478"
      },
      "execution_count": 10,
      "outputs": [
        {
          "output_type": "stream",
          "name": "stderr",
          "text": [
            "[nltk_data] Downloading package wordnet to /root/nltk_data...\n",
            "[nltk_data] Downloading package omw-1.4 to /root/nltk_data...\n"
          ]
        },
        {
          "output_type": "stream",
          "name": "stdout",
          "text": [
            "['canadian', 'amateur', 'bryologist', 'special', 'speci', 'nativ', 'nova', 'scotia', 'earli', 'career', 'involv', 'gather', 'sphagnum', 'moss', 'use', 'surgic', 'dress', 'world', 'war', 'cotton', 'short', 'suppli', 'war', 'research', 'ss', 'around', 'world', 'publish', 'paper', 'materi', 'collect', 'well', 'catalog', 'sampl', 'collect', 'other', 'collect']\n"
          ]
        }
      ]
    },
    {
      "cell_type": "code",
      "source": [
        "print(f\"{'Original':<19} {'Porter':<19} {'Lancaster':<19} {'Lemma':<19}\")\n",
        "print(\"-\" * 60)\n",
        "for o, p, l, le in zip(stopwordremove, portered, lancastered, lemmatized):\n",
        "    print(\"{:<19} {:<19} {:<19} {:<19}\".format(o, p, l, le))\n",
        "\n"
      ],
      "metadata": {
        "colab": {
          "base_uri": "https://localhost:8080/"
        },
        "id": "wM3istFXM71m",
        "outputId": "6207693f-1072-4e4d-838e-ba3acb7d9974"
      },
      "execution_count": 11,
      "outputs": [
        {
          "output_type": "stream",
          "name": "stdout",
          "text": [
            "Original            Porter              Lancaster           Lemma              \n",
            "------------------------------------------------------------\n",
            "canadian            canadian            canad               canadian           \n",
            "amateur             amateur             am                  amateur            \n",
            "bryologist          bryologist          bryolog             bryologist         \n",
            "specializing        special             spec                specializing       \n",
            "species             speci               specy               specie             \n",
            "native              nativ               nat                 native             \n",
            "nova                nova                nov                 nova               \n",
            "scotia              scotia              scot                scotia             \n",
            "early               earli               ear                 early              \n",
            "career              career              car                 career             \n",
            "involved            involv              involv              involved           \n",
            "gathering           gather              gath                gathering          \n",
            "sphagnum            sphagnum            sphagnum            sphagnum           \n",
            "moss                moss                moss                moss               \n",
            "used                use                 us                  used               \n",
            "surgical            surgic              surg                surgical           \n",
            "dressings           dress               dress               dressing           \n",
            "world               world               world               world              \n",
            "war                 war                 war                 war                \n",
            "cotton              cotton              cotton              cotton             \n",
            "short               short               short               short              \n",
            "supply              suppli              supply              supply             \n",
            "war                 war                 war                 war                \n",
            "researched          research            research            researched         \n",
            "sses                ss                  sse                 ss                 \n",
            "around              around              around              around             \n",
            "world               world               world               world              \n",
            "publishing          publish             publ                publishing         \n",
            "papers              paper               pap                 paper              \n",
            "materials           materi              mat                 material           \n",
            "collected           collect             collect             collected          \n",
            "well                well                wel                 well               \n",
            "cataloging          catalog             catalog             cataloging         \n",
            "samples             sampl               sampl               sample             \n",
            "collected           collect             collect             collected          \n",
            "others              other               oth                 others             \n",
            "collections         collect             collect             collection         \n"
          ]
        }
      ]
    },
    {
      "cell_type": "code",
      "source": [
        "import re\n",
        "letter_5 = re.findall(r'\\b\\w{6,}\\b', no_punc)\n",
        "print(\"words (>5) letters:  \", letter_5 ,'\\n')\n",
        "# \\w{6,} = Match any word (\\w) with 6 or more characters.\n",
        "\n",
        "numb = re.findall(r'\\b\\d+\\b', no_punc)\n",
        "print(\"\\nNumbers :  \", numb,'\\n')\n",
        "# \\d+ = One or more digits (0-9)\n",
        "\n",
        "caps = re.findall(r'\\b[A-Z][a-zA-Z]*\\b', sentence)\n",
        "print(\"\\nCapitalized :  \", caps, '\\n')\n",
        "# [a-zA-Z]* = Followed by zero or more letters (upper/lower case).\n",
        "\n",
        "alphas = re.findall(r'\\b[a-zA-Z]+\\b', no_punc)\n",
        "print(\"\\nOnly alpha words:  \", alphas, '\\n')\n",
        "# [a-zA-Z]+ = One or more alphabet characters (no digits or symbols).\n",
        "\n",
        "# text into words\n",
        "words_list = no_punc.split()\n",
        "only_alpha_words = [w for w in words_list if w.isalpha()]\n",
        "print(\"Only alpha words:\\n\", only_alpha_words)\n",
        "\n",
        "vowelss = [w for w in alphas if w[0].lower() in 'aeiou']\n",
        "print(\"\\nWords starting with vowels:\\n\", vowelss)"
      ],
      "metadata": {
        "colab": {
          "base_uri": "https://localhost:8080/"
        },
        "id": "oF_VFL1pNFZ9",
        "outputId": "7583be46-da36-4f13-a245-ab6c74b55cd5"
      },
      "execution_count": 12,
      "outputs": [
        {
          "output_type": "stream",
          "name": "stdout",
          "text": [
            "words (>5) letters:   ['canadian', 'amateur', 'bryologist', 'specializing', 'species', 'native', 'scotia', 'career', 'involved', 'gathering', 'sphagnum', 'surgical', 'dressings', 'during', 'cotton', 'supply', 'researched', 'around', 'publishing', 'papers', 'materials', 'collected', 'herself', 'cataloging', 'samples', 'collected', 'others', 'collections'] \n",
            "\n",
            "\n",
            "Numbers :   [] \n",
            "\n",
            "\n",
            "Capitalized :   ['Canadian', 'Nova', 'Scotia', 'Early', 'World', 'War', 'I', 'After'] \n",
            "\n",
            "\n",
            "Only alpha words:   ['was', 'a', 'canadian', 'amateur', 'bryologist', 'specializing', 'in', 'species', 'native', 'to', 'nova', 'scotia', 'early', 'in', 'her', 'career', 'she', 'was', 'involved', 'with', 'gathering', 'sphagnum', 'moss', 'to', 'be', 'used', 'as', 'surgical', 'dressings', 'during', 'world', 'war', 'i', 'when', 'cotton', 'was', 'in', 'short', 'supply', 'after', 'the', 'war', 'she', 'researched', 'sses', 'from', 'around', 'the', 'world', 'publishing', 'papers', 'on', 'materials', 'she', 'had', 'collected', 'herself', 'as', 'well', 'as', 'cataloging', 'samples', 'collected', 'by', 'others', 'her', 'collections', 'are', 'no'] \n",
            "\n",
            "Only alpha words:\n",
            " ['was', 'a', 'canadian', 'amateur', 'bryologist', 'specializing', 'in', 'species', 'native', 'to', 'nova', 'scotia', 'early', 'in', 'her', 'career', 'she', 'was', 'involved', 'with', 'gathering', 'sphagnum', 'moss', 'to', 'be', 'used', 'as', 'surgical', 'dressings', 'during', 'world', 'war', 'i', 'when', 'cotton', 'was', 'in', 'short', 'supply', 'after', 'the', 'war', 'she', 'researched', 'sses', 'from', 'around', 'the', 'world', 'publishing', 'papers', 'on', 'materials', 'she', 'had', 'collected', 'herself', 'as', 'well', 'as', 'cataloging', 'samples', 'collected', 'by', 'others', 'her', 'collections', 'are', 'no']\n",
            "\n",
            "Words starting with vowels:\n",
            " ['a', 'amateur', 'in', 'early', 'in', 'involved', 'used', 'as', 'i', 'in', 'after', 'around', 'on', 'as', 'as', 'others', 'are']\n"
          ]
        }
      ]
    },
    {
      "cell_type": "code",
      "source": [
        "# Custom Tokenizer\n",
        "def custom_tokens(text):\n",
        "    text = re.sub(r\"[^a-zA-Z0-9\\s\\-']\", \"\", text)\n",
        "    tokens = re.findall(r\"\\b\\w+(?:[-']\\w+)*\\b\", text)\n",
        "    # ?: = Non-capturing group (just groups the pattern, doesn't save it separately)\n",
        "    return tokens\n",
        "customs = custom_tokens(sentence)\n",
        "print(\"\\nCustom Tokens:  \", customs, '\\n')\n",
        "\n",
        "\n",
        "text_replaced = re.sub(r'\\b[\\w.-]+?@\\w+?\\.\\w+?\\b', '<EMAIL>', sentence)\n",
        "# [\\w.-]+?\tOne or more word characters (a-z, A-Z, 0-9, _), dot ., or hyphen - (email username part)\n",
        "# \\w+?\tDomain name (like gmail) and then the domain extension\n",
        "\n",
        "text_replaced = re.sub(r'http[s]?://\\S+', '<URL>', text_replaced)\n",
        "# http[s]?\tMatch http or https (the s? means \"s\" is optional)\n",
        "# \\S+\tMatch one or more non-space characters (the URL itself)\n",
        "\n",
        "text_replaced = re.sub(r'(\\+?\\d{1,2}\\s?)?(\\d{3}[-\\s]?\\d{3}[-\\s]?\\d{4})', '<PHONE>', text_replaced)\n",
        "# (\\+?\\d{1,2}\\s?)? – The entire pattern is optional due to the outer ()\n",
        "# \\+?  Matches an optional plus sign (+)\n",
        "# \\d{1,2}  Matches 1 or 2 digits (0-9)\n",
        "# \\s?   Matches an optional whitespace character (like a space or tab)\n",
        "# [-\\s]?   Optional hyphen or space (separator)\n",
        "# \\d{4}\tExactly 4 digits (last part)\n",
        "print(\"\\nText after Regex Substitutions:\\n\", text_replaced)\n"
      ],
      "metadata": {
        "colab": {
          "base_uri": "https://localhost:8080/"
        },
        "id": "0VSJcNZgQyLq",
        "outputId": "c8b29333-7fc6-4ed6-b72c-d51091b10553"
      },
      "execution_count": 13,
      "outputs": [
        {
          "output_type": "stream",
          "name": "stdout",
          "text": [
            "\n",
            "Custom Tokens:   ['was', 'a', 'Canadian', 'amateur', 'bryologist', 'specializing', 'in', 'species', 'native', 'to', 'Nova', 'Scotia', 'Early', 'in', 'her', 'career', 'she', 'was', 'involved', 'with', 'gathering', 'sphagnum', 'moss', 'to', 'be', 'used', 'as', 'surgical', 'dressings', 'during', 'World', 'War', 'I', 'when', 'cotton', 'was', 'in', 'short', 'supply', 'After', 'the', 'war', 'she', 'researched', 'sses', 'from', 'around', 'the', 'world', 'publishing', 'papers', 'on', 'materials', 'she', 'had', 'collected', 'herself', 'as', 'well', 'as', 'cataloging', 'samples', 'collected', 'by', 'others', 'her', 'collections', 'are', 'no'] \n",
            "\n",
            "\n",
            "Text after Regex Substitutions:\n",
            " was a Canadian amateur bryologist specializing in species native to Nova Scotia. Early in her career she was involved with gathering sphagnum moss to be used as surgical dressings during World War I, when cotton was in short supply. After the war, she researched sses from around the world, publishing papers on materials she had collected herself as well as cataloging samples collected by others\n",
            " her collections are no\n"
          ]
        }
      ]
    }
  ]
}