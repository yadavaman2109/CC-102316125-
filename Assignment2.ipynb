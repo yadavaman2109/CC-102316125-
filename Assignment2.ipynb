{
  "nbformat": 4,
  "nbformat_minor": 0,
  "metadata": {
    "colab": {
      "provenance": []
    },
    "kernelspec": {
      "name": "python3",
      "display_name": "Python 3"
    },
    "language_info": {
      "name": "python"
    }
  },
  "cells": [
    {
      "cell_type": "code",
      "execution_count": 1,
      "metadata": {
        "colab": {
          "base_uri": "https://localhost:8080/"
        },
        "id": "L8cL2WI7FXK4",
        "outputId": "e51b57c7-d049-4a71-ddfe-6431e3bf1fa5"
      },
      "outputs": [
        {
          "output_type": "stream",
          "name": "stdout",
          "text": [
            "After adding 200 and 300: [10, 20, 30, 40, 50, 60, 70, 80, 200, 300]\n",
            "After removing 10 and 30: [20, 40, 50, 60, 70, 80, 200, 300]\n",
            "Sorted in ascending order: [20, 40, 50, 60, 70, 80, 200, 300]\n",
            "Sorted in descending order using reverse(): [300, 200, 80, 70, 60, 50, 40, 20]\n"
          ]
        }
      ],
      "source": [
        "#Q1:\n",
        "L = [10, 20, 30, 40, 50, 60, 70, 80]\n",
        "L.append(200)\n",
        "L.append(300)\n",
        "print(\"After adding 200 and 300:\", L)\n",
        "\n",
        "L.remove(10)\n",
        "L.remove(30)\n",
        "print(\"After removing 10 and 30:\", L)\n",
        "\n",
        "L.sort()\n",
        "print(\"Sorted in ascending order:\", L)\n",
        "\n",
        "L.sort()\n",
        "L.reverse()\n",
        "print(\"Sorted in descending order using reverse():\", L)\n"
      ]
    },
    {
      "cell_type": "code",
      "source": [
        "#Q2:\n",
        "marks = (45, 89.5, 76, 45.4, 89, 92, 58, 45)\n",
        "top = max(marks)\n",
        "top_pos = marks.index(top)\n",
        "print(f\"Top score: {top}, Position: {top_pos}\")\n",
        "low = min(marks)\n",
        "low_count = marks.count(low)\n",
        "print(f\"Lowest score: {low}, Appears: {low_count} times\")\n",
        "rev_marks = list(reversed(marks))\n",
        "print(f\"Reversed list: {rev_marks}\")\n",
        "\n",
        "num = int(input(\"Enter a number to check: \"))\n",
        "if num in marks:\n",
        "    num_pos = marks.index(num)\n",
        "    print(f\"{num} found at position {num_pos}.\")\n",
        "else:\n",
        "    print(f\"{num} is not in the marks.\")\n"
      ],
      "metadata": {
        "colab": {
          "base_uri": "https://localhost:8080/"
        },
        "id": "9DEOoZkIGrSP",
        "outputId": "464d1496-80fc-45c2-a823-e483341b51b3"
      },
      "execution_count": 2,
      "outputs": [
        {
          "output_type": "stream",
          "name": "stdout",
          "text": [
            "Top score: 92, Position: 5\n",
            "Lowest score: 45, Appears: 2 times\n",
            "Reversed list: [45, 58, 92, 89, 45.4, 76, 89.5, 45]\n",
            "Enter a number to check: 76\n",
            "76 found at position 2.\n"
          ]
        }
      ]
    },
    {
      "cell_type": "code",
      "source": [
        "#q3:\n",
        "import random\n",
        "nums = [random.randint(100, 900) for _ in range(100)]\n",
        "\n",
        "odd = []\n",
        "even = []\n",
        "prime = []\n",
        "\n",
        "def is_prime(n):\n",
        "    if n < 2:\n",
        "        return False\n",
        "    for i in range(2, int(n ** 0.5) + 1):\n",
        "        if n % i == 0:\n",
        "            return False\n",
        "    return True\n",
        "\n",
        "for num in nums:\n",
        "    if num % 2 == 0:\n",
        "        even.append(num)\n",
        "    else:\n",
        "        odd.append(num)\n",
        "\n",
        "    if is_prime(num):\n",
        "        prime.append(num)\n",
        "\n",
        "print(f\"Odd numbers ({len(odd)}): {odd}\")\n",
        "print(f\"Even numbers ({len(even)}): {even}\")\n",
        "print(f\"Prime numbers ({len(prime)}): {prime}\")\n"
      ],
      "metadata": {
        "colab": {
          "base_uri": "https://localhost:8080/"
        },
        "id": "l4wvdJ0rG2f6",
        "outputId": "313721b3-9f3f-4002-90da-2bd6c00c9fd7"
      },
      "execution_count": 3,
      "outputs": [
        {
          "output_type": "stream",
          "name": "stdout",
          "text": [
            "Odd numbers (54): [365, 519, 781, 261, 659, 121, 247, 719, 561, 473, 381, 569, 461, 109, 163, 731, 813, 699, 389, 133, 453, 627, 545, 657, 261, 307, 353, 781, 645, 119, 111, 847, 229, 357, 265, 391, 249, 477, 371, 687, 547, 663, 809, 343, 181, 213, 459, 503, 367, 579, 213, 787, 117, 619]\n",
            "Even numbers (46): [296, 730, 778, 144, 240, 510, 374, 360, 468, 730, 144, 286, 412, 318, 184, 458, 324, 290, 206, 654, 256, 586, 552, 678, 244, 158, 720, 466, 428, 218, 430, 496, 112, 198, 114, 124, 602, 322, 248, 326, 370, 368, 772, 286, 160, 594]\n",
            "Prime numbers (17): [659, 719, 569, 461, 109, 163, 389, 307, 353, 229, 547, 809, 181, 503, 367, 787, 619]\n"
          ]
        }
      ]
    },
    {
      "cell_type": "code",
      "source": [
        "#Q4:\n",
        "A = {34, 56, 78, 90}\n",
        "B = {78, 45, 90, 23}\n",
        "unique_scores = A | B\n",
        "print(f\"Unique scores: {unique_scores}\")\n",
        "print()\n",
        "common_scores = A & B\n",
        "print(f\"Common scores: {common_scores}\")\n",
        "print()\n",
        "exclusive_scores = A ^ B\n",
        "print(f\"Exclusive scores: {exclusive_scores}\")\n",
        "print()\n",
        "is_subset = A.issubset(B)\n",
        "is_superset = B.issuperset(A)\n",
        "print(f\"Is A a subset of B? {is_subset}\")\n",
        "print(f\"Is B a superset of A? {is_superset}\")\n",
        "print()\n",
        "X = int(input(\"Enter a score to remove from A: \"))\n",
        "if X in A:\n",
        "    A.remove(X)\n",
        "    print(f\"Updated A after removing {X}: {A}\")\n",
        "else:\n",
        "    print(f\"{X} is not in A.\")\n"
      ],
      "metadata": {
        "colab": {
          "base_uri": "https://localhost:8080/"
        },
        "id": "R64ZJls8HVpY",
        "outputId": "cadcd424-269c-4bd4-ae2a-ef4578f8b6ce"
      },
      "execution_count": 4,
      "outputs": [
        {
          "output_type": "stream",
          "name": "stdout",
          "text": [
            "Unique scores: {34, 45, 78, 23, 56, 90}\n",
            "\n",
            "Common scores: {90, 78}\n",
            "\n",
            "Exclusive scores: {34, 45, 23, 56}\n",
            "\n",
            "Is A a subset of B? False\n",
            "Is B a superset of A? False\n",
            "\n",
            "Enter a score to remove from A: 34\n",
            "Updated A after removing 34: {56, 90, 78}\n"
          ]
        }
      ]
    },
    {
      "cell_type": "code",
      "source": [
        "#q5:\n",
        "sample_dict = {\n",
        "    \"name\": \"Kelly\",\n",
        "    \"age\": 25,\n",
        "    \"salary\": 8000,\n",
        "    \"city\": \"New york\"\n",
        "}\n",
        "if \"city\" in sample_dict:\n",
        "    sample_dict[\"location\"] = sample_dict.pop(\"city\")\n",
        "\n",
        "print(sample_dict)\n"
      ],
      "metadata": {
        "colab": {
          "base_uri": "https://localhost:8080/"
        },
        "id": "g2E69q89Hzcu",
        "outputId": "d22ac612-ce87-43b2-bb4d-03e9c2a4e6fd"
      },
      "execution_count": 5,
      "outputs": [
        {
          "output_type": "stream",
          "name": "stdout",
          "text": [
            "{'name': 'Kelly', 'age': 25, 'salary': 8000, 'location': 'New york'}\n"
          ]
        }
      ]
    }
  ]
}