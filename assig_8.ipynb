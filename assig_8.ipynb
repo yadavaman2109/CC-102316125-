{
  "nbformat": 4,
  "nbformat_minor": 0,
  "metadata": {
    "colab": {
      "provenance": []
    },
    "kernelspec": {
      "name": "python3",
      "display_name": "Python 3"
    },
    "language_info": {
      "name": "python"
    }
  },
  "cells": [
    {
      "cell_type": "code",
      "execution_count": 1,
      "metadata": {
        "colab": {
          "base_uri": "https://localhost:8080/"
        },
        "id": "QrbenX1X8Z0B",
        "outputId": "90e04ac2-85a0-4dc9-cf31-4b50bc8df885"
      },
      "outputs": [
        {
          "output_type": "stream",
          "name": "stdout",
          "text": [
            "Model Accuracy: 0.9666666666666667\n",
            "Detailed Report:\n",
            "               precision    recall  f1-score   support\n",
            "\n",
            "           0       1.00      1.00      1.00        11\n",
            "           1       1.00      0.92      0.96        13\n",
            "           2       0.86      1.00      0.92         6\n",
            "\n",
            "    accuracy                           0.97        30\n",
            "   macro avg       0.95      0.97      0.96        30\n",
            "weighted avg       0.97      0.97      0.97        30\n",
            "\n"
          ]
        }
      ],
      "source": [
        "from sklearn.datasets import load_iris\n",
        "from sklearn.linear_model import LogisticRegression\n",
        "from sklearn.model_selection import train_test_split\n",
        "from sklearn.metrics import accuracy_score, classification_report\n",
        "import numpy as np\n",
        "\n",
        "dataset = load_iris()\n",
        "features = dataset.data\n",
        "labels = dataset.target\n",
        "\n",
        "X_train_set, X_test_set, y_train_set, y_test_set = train_test_split(features, labels, test_size=0.2, random_state=1)\n",
        "\n",
        "log_model = LogisticRegression(max_iter=250)\n",
        "log_model.fit(X_train_set, y_train_set)\n",
        "\n",
        "predictions = log_model.predict(X_test_set)\n",
        "\n",
        "acc = accuracy_score(y_test_set, predictions)\n",
        "report = classification_report(y_test_set, predictions)\n",
        "\n",
        "print(\"Model Accuracy:\", acc)\n",
        "print(\"Detailed Report:\\n\", report)"
      ]
    }
  ]
}