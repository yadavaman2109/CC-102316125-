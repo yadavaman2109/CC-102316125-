{
  "nbformat": 4,
  "nbformat_minor": 0,
  "metadata": {
    "colab": {
      "provenance": []
    },
    "kernelspec": {
      "name": "python3",
      "display_name": "Python 3"
    },
    "language_info": {
      "name": "python"
    }
  },
  "cells": [
    {
      "cell_type": "markdown",
      "source": [
        "\n",
        "Assingment 1.1: WAP to print your name three times"
      ],
      "metadata": {
        "id": "U7uFrvP0c3Bh"
      }
    },
    {
      "cell_type": "code",
      "source": [
        "for i in range(3):\n",
        "    print(\"Aman Yadav\")"
      ],
      "metadata": {
        "colab": {
          "base_uri": "https://localhost:8080/"
        },
        "id": "nuNaj5tlcx_a",
        "outputId": "331a1ce8-412d-4db5-99e8-70cc49623fcf"
      },
      "execution_count": 1,
      "outputs": [
        {
          "output_type": "stream",
          "name": "stdout",
          "text": [
            "Aman Yadav\n",
            "Aman Yadav\n",
            "Aman Yadav\n"
          ]
        }
      ]
    },
    {
      "cell_type": "markdown",
      "source": [
        "Assingment 2.1: WAP to add three numbers and print the result."
      ],
      "metadata": {
        "id": "cqqJ63vtdNn2"
      }
    },
    {
      "cell_type": "code",
      "source": [
        "a = 10\n",
        "b = 220\n",
        "c = 30\n",
        "d = a+b+c\n",
        "print(f\"{a}+{b}+{c} --> {d}\")"
      ],
      "metadata": {
        "colab": {
          "base_uri": "https://localhost:8080/"
        },
        "id": "0bFQ5BFJdYUg",
        "outputId": "8b83c71e-f9ad-4f96-b01d-ac9dff0157e4"
      },
      "execution_count": 2,
      "outputs": [
        {
          "output_type": "stream",
          "name": "stdout",
          "text": [
            "10+220+30 --> 260\n"
          ]
        }
      ]
    },
    {
      "cell_type": "markdown",
      "source": [
        "Assingment 2.2: WAP to concatinate three strings and print the result."
      ],
      "metadata": {
        "id": "EK6IpLGCeCk_"
      }
    },
    {
      "cell_type": "code",
      "source": [
        "hello = \"Hello \"\n",
        "a = \"Aman\"\n",
        "b = \" Rao\"\n",
        "final = hello+a+b\n",
        "print (f\"{hello}+{a} +{b} --> {final}\")"
      ],
      "metadata": {
        "colab": {
          "base_uri": "https://localhost:8080/"
        },
        "id": "A_SOmmpteHID",
        "outputId": "caaf2e93-71dc-444b-d421-d41a85ba2fc3"
      },
      "execution_count": 5,
      "outputs": [
        {
          "output_type": "stream",
          "name": "stdout",
          "text": [
            "Hello +Aman + Rao --> Hello Aman Rao\n"
          ]
        }
      ]
    },
    {
      "cell_type": "markdown",
      "source": [
        "Assingment 4.1: WAP to print the table of 7, 9."
      ],
      "metadata": {
        "id": "Iv888ZwHeR_Z"
      }
    },
    {
      "cell_type": "code",
      "source": [
        "for i in range(11):\n",
        "    print(f\"7 X {i} = {7*i}\")"
      ],
      "metadata": {
        "colab": {
          "base_uri": "https://localhost:8080/"
        },
        "id": "DGbiD_XweVIr",
        "outputId": "bdad981f-dfcf-4424-809e-74885c7b1bf8"
      },
      "execution_count": 6,
      "outputs": [
        {
          "output_type": "stream",
          "name": "stdout",
          "text": [
            "7 X 0 = 0\n",
            "7 X 1 = 7\n",
            "7 X 2 = 14\n",
            "7 X 3 = 21\n",
            "7 X 4 = 28\n",
            "7 X 5 = 35\n",
            "7 X 6 = 42\n",
            "7 X 7 = 49\n",
            "7 X 8 = 56\n",
            "7 X 9 = 63\n",
            "7 X 10 = 70\n"
          ]
        }
      ]
    },
    {
      "cell_type": "code",
      "source": [
        "for i in range(11):\n",
        "    print(f\"9 X {i} = {9*i}\")\n"
      ],
      "metadata": {
        "colab": {
          "base_uri": "https://localhost:8080/"
        },
        "id": "O3nErmY6eaj4",
        "outputId": "69215fe5-8add-4380-de8b-d6ac372685a2"
      },
      "execution_count": 7,
      "outputs": [
        {
          "output_type": "stream",
          "name": "stdout",
          "text": [
            "9 X 0 = 0\n",
            "9 X 1 = 9\n",
            "9 X 2 = 18\n",
            "9 X 3 = 27\n",
            "9 X 4 = 36\n",
            "9 X 5 = 45\n",
            "9 X 6 = 54\n",
            "9 X 7 = 63\n",
            "9 X 8 = 72\n",
            "9 X 9 = 81\n",
            "9 X 10 = 90\n"
          ]
        }
      ]
    },
    {
      "cell_type": "markdown",
      "source": [
        "Assingment 4.2: WAP to print the table of n and n is given by user."
      ],
      "metadata": {
        "id": "AtWmq4qCehAv"
      }
    },
    {
      "cell_type": "code",
      "source": [
        "n = int(input(\"Enter the number \"))\n",
        "for i in range(11):\n",
        "    print(f\"{n} X {i} = {n*i}\")"
      ],
      "metadata": {
        "colab": {
          "base_uri": "https://localhost:8080/"
        },
        "id": "9Q8CzcKSeidt",
        "outputId": "74694e00-4020-467a-8f6c-43ccf9f22dc7"
      },
      "execution_count": 8,
      "outputs": [
        {
          "output_type": "stream",
          "name": "stdout",
          "text": [
            "Enter the number 15\n",
            "15 X 0 = 0\n",
            "15 X 1 = 15\n",
            "15 X 2 = 30\n",
            "15 X 3 = 45\n",
            "15 X 4 = 60\n",
            "15 X 5 = 75\n",
            "15 X 6 = 90\n",
            "15 X 7 = 105\n",
            "15 X 8 = 120\n",
            "15 X 9 = 135\n",
            "15 X 10 = 150\n"
          ]
        }
      ]
    },
    {
      "cell_type": "markdown",
      "source": [
        "Assingment 4.3: WAP to add all the numbers from 1 to n and n is given by user.\n"
      ],
      "metadata": {
        "id": "kKljJvoIesFm"
      }
    },
    {
      "cell_type": "code",
      "source": [
        "n = int(input(\"Enter the number \"))\n",
        "result = n*(n+1)/2\n",
        "print(result)"
      ],
      "metadata": {
        "colab": {
          "base_uri": "https://localhost:8080/"
        },
        "id": "tHLt2KJletBv",
        "outputId": "e6505956-b5a9-4337-d198-29010e1e43dc"
      },
      "execution_count": 9,
      "outputs": [
        {
          "output_type": "stream",
          "name": "stdout",
          "text": [
            "Enter the number 16\n",
            "136.0\n"
          ]
        }
      ]
    },
    {
      "cell_type": "markdown",
      "source": [
        "Assingment 5.1: WAP to find max amoung three numbers and input from user."
      ],
      "metadata": {
        "id": "ijfyIlmle3RL"
      }
    },
    {
      "cell_type": "code",
      "source": [
        "list1 = []\n",
        "for i in range(3):\n",
        "    list1.append(int(input(f\"Enter the {i}th number \")))\n",
        "print(list1)\n",
        "print(max(list1))"
      ],
      "metadata": {
        "colab": {
          "base_uri": "https://localhost:8080/"
        },
        "id": "_KlKOYZse64H",
        "outputId": "6e2e3d37-e3c5-41ca-b42a-4a585ffb9593"
      },
      "execution_count": 10,
      "outputs": [
        {
          "output_type": "stream",
          "name": "stdout",
          "text": [
            "Enter the 0th number 2\n",
            "Enter the 1th number 3\n",
            "Enter the 2th number 4\n",
            "[2, 3, 4]\n",
            "4\n"
          ]
        }
      ]
    },
    {
      "cell_type": "markdown",
      "source": [
        "Assingment 5.2: WAP to add all numbers divisible by 7 and 9 from 1 to n and n is given by the user."
      ],
      "metadata": {
        "id": "4vmMw4m1fBwd"
      }
    },
    {
      "cell_type": "code",
      "source": [
        "n = int(input(\"Enter a No: \"))\n",
        "sum=0\n",
        "for i in range(n+1):\n",
        "    if(i%7==0 or i%9==0):\n",
        "        sum+=i\n",
        "print(sum)"
      ],
      "metadata": {
        "colab": {
          "base_uri": "https://localhost:8080/"
        },
        "id": "BHEwbmJufFHV",
        "outputId": "fd582b5e-0363-4eb1-e23a-724f835eb484"
      },
      "execution_count": 11,
      "outputs": [
        {
          "output_type": "stream",
          "name": "stdout",
          "text": [
            "Enter a No: 99\n",
            "1266\n"
          ]
        }
      ]
    },
    {
      "cell_type": "markdown",
      "source": [
        "Assingment 5.3: WAP to add all prime numbers from 1 to n and n is given by the user."
      ],
      "metadata": {
        "id": "EhPruw0LfMRw"
      }
    },
    {
      "cell_type": "code",
      "source": [
        "def oddAdder(n):\n",
        "    sum=0\n",
        "    for i in range(2, n+1):\n",
        "        flag=0\n",
        "        for div in range(2, int(i**0.5)+1):\n",
        "            if(i%div==0):\n",
        "                flag=1\n",
        "                break\n",
        "        if(flag==0):\n",
        "            sum+=i\n",
        "    return sum\n",
        "n = int(input(\"Enter a No: \"))\n",
        "result = oddAdder(n)\n",
        "print(result)"
      ],
      "metadata": {
        "colab": {
          "base_uri": "https://localhost:8080/"
        },
        "id": "JoZbEeuMfPDK",
        "outputId": "a884cd59-df40-46fe-b820-c1f1c2715e7e"
      },
      "execution_count": 20,
      "outputs": [
        {
          "output_type": "stream",
          "name": "stdout",
          "text": [
            "Enter a No: 10\n",
            "17\n"
          ]
        }
      ]
    },
    {
      "cell_type": "markdown",
      "source": [
        "Assingment 6.1: WAP using function that add all odd numbers from 1 to n, n is given by the user."
      ],
      "metadata": {
        "id": "W1zDkjbMgIoO"
      }
    },
    {
      "cell_type": "code",
      "source": [
        "def oddAdder(n):\n",
        "    sum=0\n",
        "    for i in range(n+1):\n",
        "        if(i%2!=0):\n",
        "            sum+=i\n",
        "    return sum\n",
        "\n",
        "n = int(input(\"Enter the number n : \"))\n",
        "result = oddAdder(n)\n",
        "print(result)"
      ],
      "metadata": {
        "colab": {
          "base_uri": "https://localhost:8080/"
        },
        "id": "B5CggzesgMgg",
        "outputId": "3986fba0-7e71-46e7-b151-71d8107c2898"
      },
      "execution_count": 21,
      "outputs": [
        {
          "output_type": "stream",
          "name": "stdout",
          "text": [
            "Enter the number n : 55\n",
            "784\n"
          ]
        }
      ]
    },
    {
      "cell_type": "markdown",
      "source": [
        "Assingment 6.2: WAP using function that add all prime numbers from 1 to n, n given by the user."
      ],
      "metadata": {
        "id": "K82Mq-GXgRra"
      }
    },
    {
      "cell_type": "code",
      "source": [
        "def oddAdder(n):\n",
        "    sum=0\n",
        "    for i in range(2, n+1):\n",
        "        flag=0\n",
        "        for div in range(2, int(i**0.5)+1):\n",
        "            if(i%div==0):\n",
        "                flag=1\n",
        "                break\n",
        "        if(flag==0):\n",
        "            sum+=i\n",
        "    return sum\n",
        "n = int(input(\"Enter the number n : \"))\n",
        "result = oddAdder(n)\n",
        "print(result)"
      ],
      "metadata": {
        "colab": {
          "base_uri": "https://localhost:8080/"
        },
        "id": "bVktV-ZBgf-Y",
        "outputId": "3f844bc2-39dc-44b0-ca3a-b5175d1bedcb"
      },
      "execution_count": 25,
      "outputs": [
        {
          "output_type": "stream",
          "name": "stdout",
          "text": [
            "Enter the number n : 5\n",
            "10\n"
          ]
        }
      ]
    }
  ]
}