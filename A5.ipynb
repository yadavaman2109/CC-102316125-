{
 "cells": [
  {
   "cell_type": "code",
   "execution_count": 3,
   "metadata": {
    "id": "AltjP25_JYZI"
   },
   "outputs": [],
   "source": [
    "import numpy as np"
   ]
  },
  {
   "cell_type": "markdown",
   "metadata": {},
   "source": [
    "### Q.1 For the array gfg = np.matrix('[4, 1, 9; 12, 3, 1; 4, 5, 6]'), Find\n",
    "### i. Sum of all elements\n",
    "### ii. Sum of all elements row-wise\n",
    "### iii. Sum of all elements column-wise"
   ]
  },
  {
   "cell_type": "code",
   "execution_count": 4,
   "metadata": {
    "colab": {
     "base_uri": "https://localhost:8080/"
    },
    "id": "LDpqv1XVL7XW",
    "outputId": "dc9302e9-f162-4eb0-dc27-e8671f888d0b"
   },
   "outputs": [
    {
     "name": "stdout",
     "output_type": "stream",
     "text": [
      "[[ 4  1  9]\n",
      " [12  3  1]\n",
      " [ 4  5  6]]\n",
      "45\n",
      "[[14]\n",
      " [16]\n",
      " [15]]\n",
      "[[20  9 16]]\n"
     ]
    }
   ],
   "source": [
    "gfg = np.matrix('[4, 1, 9; 12, 3, 1; 4, 5, 6]')\n",
    "print(gfg)\n",
    "sum1 = np.sum(gfg)\n",
    "print(sum1)\n",
    "sum2 = np.sum(gfg,axis =1)\n",
    "print(sum2)\n",
    "sum3 = np.sum(gfg,axis =0)\n",
    "print(sum3)"
   ]
  },
  {
   "cell_type": "markdown",
   "metadata": {},
   "source": [
    "### Q.2 (a)For the array: array = np.array([10, 52, 62, 16, 16, 54, 453]), find\n",
    "### i. Sorted array\n",
    "### ii. Indices of sorted array\n",
    "### iii. 4 smallest elements\n",
    "### iv. 5 largest elements"
   ]
  },
  {
   "cell_type": "code",
   "execution_count": 5,
   "metadata": {
    "colab": {
     "base_uri": "https://localhost:8080/"
    },
    "id": "9WH-nsvMTvUw",
    "outputId": "0667e0b4-daef-4887-9f7a-b0490e3b1e86"
   },
   "outputs": [
    {
     "name": "stdout",
     "output_type": "stream",
     "text": [
      "[ 10  16  16  52  54  62 453]\n",
      "[10 16 16 52]\n",
      "[ 16  52  54  62 453]\n",
      "[0 3 4 1 5 2 6]\n"
     ]
    }
   ],
   "source": [
    "array = np.array([10, 52, 62, 16, 16, 54, 453])\n",
    "sorted = np.sort(array)\n",
    "print(sorted)\n",
    "small = np.sort(array)[:4]\n",
    "print(small)\n",
    "large = np.sort(array)[-5:]\n",
    "print(large)\n",
    "indices = np.argsort(array)\n",
    "print(indices)"
   ]
  },
  {
   "cell_type": "markdown",
   "metadata": {
    "id": "AFsEJXhHT3i2"
   },
   "source": [
    "### (b) For the array: array = np.array([1.0, 1.2, 2.2, 2.0, 3.0, 2.0]), find\n",
    "### i. Integer elements only\n",
    "### ii. Float elements only"
   ]
  },
  {
   "cell_type": "code",
   "execution_count": 43,
   "metadata": {
    "colab": {
     "base_uri": "https://localhost:8080/"
    },
    "id": "u1Tr0NtVU1vw",
    "outputId": "72c695cd-d887-4815-d0f8-ad254a779682"
   },
   "outputs": [
    {
     "name": "stdout",
     "output_type": "stream",
     "text": [
      "Integer only: [1. 2. 3. 2.]\n",
      "Float only: [1.2 2.2]\n"
     ]
    }
   ],
   "source": [
    "array = np.array([1.0, 1.2, 2.2, 2.0, 3.0, 2.0])\n",
    "integer_elements = array[array == array.astype(int)]\n",
    "print(\"Integer only:\",integer_elements)\n",
    "float_elements = array[array != array.astype(int)]\n",
    "print(\"Float only:\",float_elements)"
   ]
  },
  {
   "cell_type": "markdown",
   "metadata": {},
   "source": [
    "### Q.3 You are given a weekly sales dataset and need to perform various operations using NumPy broadcasting.\n",
    "### a) Generate your unique sales dataset:\n",
    "### Take the sum of the ASCII values of the initials of your first and last name. Call this value X.\n",
    "### (If your initials are A B → ASCII sum = 65\\+ 66 = 131 → sales = [131, 181, 231, 281, 331].)\n",
    "### Create a NumPy array sales with values [X, X+50, X+100, X+150,X+200]."
   ]
  },
  {
   "cell_type": "code",
   "execution_count": 8,
   "metadata": {
    "colab": {
     "base_uri": "https://localhost:8080/"
    },
    "id": "KUcEcm4CylvQ",
    "outputId": "6a01d9aa-c27a-49ab-e73f-7e0045abc0dc"
   },
   "outputs": [
    {
     "name": "stdout",
     "output_type": "stream",
     "text": [
      "[136 186 236 286 336]\n"
     ]
    }
   ],
   "source": [
    "X = ord('A')+ord('G')\n",
    "sales = np.array([X, X+50, X+100, X+150, X+200])\n",
    "print(sales)"
   ]
  },
  {
   "cell_type": "markdown",
   "metadata": {
    "id": "cSAD3Au7ymGs"
   },
   "source": [
    "### b) Compute your personalized tax rate as ((X % 5) + 5) / 100.\n",
    "### Use broadcasting to apply this tax rate to each sales value."
   ]
  },
  {
   "cell_type": "code",
   "execution_count": 9,
   "metadata": {
    "colab": {
     "base_uri": "https://localhost:8080/"
    },
    "id": "PwP3e7Bwyo0a",
    "outputId": "78be3d8c-56fd-471e-a100-f7fd97aadb7e"
   },
   "outputs": [
    {
     "name": "stdout",
     "output_type": "stream",
     "text": [
      "0.06\n",
      "[144.16 197.16 250.16 303.16 356.16]\n"
     ]
    }
   ],
   "source": [
    "tax_rate =  ((X%5)+5)/100\n",
    "print(tax_rate)\n",
    "sales_taxed = sales*(1+tax_rate)\n",
    "print(sales_taxed)"
   ]
  },
  {
   "cell_type": "markdown",
   "metadata": {
    "id": "-ofu5khkypL2"
   },
   "source": [
    "### c) Adjust sales based on discount:\n",
    "### If sales < X+100, apply a 5% discount.\n",
    "### If sales >= X+100, apply a 10% discount."
   ]
  },
  {
   "cell_type": "code",
   "execution_count": 10,
   "metadata": {
    "colab": {
     "base_uri": "https://localhost:8080/"
    },
    "id": "DQb-GIWdyq94",
    "outputId": "0ebeb6b2-bda9-407c-c61b-6cb29c8fec09"
   },
   "outputs": [
    {
     "name": "stdout",
     "output_type": "stream",
     "text": [
      "[129.2 176.7 212.4 257.4 302.4]\n"
     ]
    }
   ],
   "source": [
    "discounted = np.where(sales<X+100 , sales*0.95 , sales*0.9)\n",
    "print(discounted)"
   ]
  },
  {
   "cell_type": "markdown",
   "metadata": {
    "id": "bMkJSg-YyrRL"
   },
   "source": [
    "### d) Expand sales data for multiple weeks:\n",
    "### Create a 3×5 matrix representing three weeks of sales by stacking sales three times using broadcasting.\n",
    "### Increase sales by 2% per week using element-wise broadcasting."
   ]
  },
  {
   "cell_type": "code",
   "execution_count": 11,
   "metadata": {
    "colab": {
     "base_uri": "https://localhost:8080/"
    },
    "id": "mv59VtM2poT-",
    "outputId": "f3438487-c7a6-4f67-ae48-3c8434fb85b0"
   },
   "outputs": [
    {
     "name": "stdout",
     "output_type": "stream",
     "text": [
      "The matrix[[136 186 236 286 336]\n",
      " [136 186 236 286 336]\n",
      " [136 186 236 286 336]]\n",
      "[0 1 2]\n",
      "[[1.    ]\n",
      " [1.02  ]\n",
      " [1.0404]]\n",
      "[[136.     186.     236.     286.     336.    ]\n",
      " [138.72   189.72   240.72   291.72   342.72  ]\n",
      " [141.4944 193.5144 245.5344 297.5544 349.5744]]\n"
     ]
    }
   ],
   "source": [
    "sale_matr = np.tile(sales, (3,1))\n",
    "print(f\"The matrix{sale_matr}\")\n",
    "weeks = np.arange(3)\n",
    "print(weeks)\n",
    "weeks = weeks.reshape(3,1)\n",
    "grow  = 1.02**weeks \n",
    "print(grow)\n",
    "sale_matr = sale_matr * grow\n",
    "print(sale_matr)"
   ]
  },
  {
   "cell_type": "markdown",
   "metadata": {
    "id": "wnkLMa0Qrkv9"
   },
   "source": [
    "### Q4. Generate x values using np.linspace() from -10 to 10 with 100 points. Use each function from the list below and compute y values using NumPy:\n",
    "### Y = x^2\n",
    "### Y = sin(x)\n",
    "### Y = e^x\n",
    "### Y = log(|x| + 1)\n",
    "### Plot the chosen function using Matplotlib. Add title, labels, and grid for clarity."
   ]
  },
  {
   "cell_type": "code",
   "execution_count": 13,
   "metadata": {
    "colab": {
     "base_uri": "https://localhost:8080/"
    },
    "id": "RuCy5bborpG5",
    "outputId": "a54bfdbb-9781-46ec-c1d1-aef03f4fd496"
   },
   "outputs": [
    {
     "name": "stdout",
     "output_type": "stream",
     "text": [
      "X array [-10.          -9.7979798   -9.5959596   -9.39393939  -9.19191919\n",
      "  -8.98989899  -8.78787879  -8.58585859  -8.38383838  -8.18181818\n",
      "  -7.97979798  -7.77777778  -7.57575758  -7.37373737  -7.17171717\n",
      "  -6.96969697  -6.76767677  -6.56565657  -6.36363636  -6.16161616\n",
      "  -5.95959596  -5.75757576  -5.55555556  -5.35353535  -5.15151515\n",
      "  -4.94949495  -4.74747475  -4.54545455  -4.34343434  -4.14141414\n",
      "  -3.93939394  -3.73737374  -3.53535354  -3.33333333  -3.13131313\n",
      "  -2.92929293  -2.72727273  -2.52525253  -2.32323232  -2.12121212\n",
      "  -1.91919192  -1.71717172  -1.51515152  -1.31313131  -1.11111111\n",
      "  -0.90909091  -0.70707071  -0.50505051  -0.3030303   -0.1010101\n",
      "   0.1010101    0.3030303    0.50505051   0.70707071   0.90909091\n",
      "   1.11111111   1.31313131   1.51515152   1.71717172   1.91919192\n",
      "   2.12121212   2.32323232   2.52525253   2.72727273   2.92929293\n",
      "   3.13131313   3.33333333   3.53535354   3.73737374   3.93939394\n",
      "   4.14141414   4.34343434   4.54545455   4.74747475   4.94949495\n",
      "   5.15151515   5.35353535   5.55555556   5.75757576   5.95959596\n",
      "   6.16161616   6.36363636   6.56565657   6.76767677   6.96969697\n",
      "   7.17171717   7.37373737   7.57575758   7.77777778   7.97979798\n",
      "   8.18181818   8.38383838   8.58585859   8.78787879   8.98989899\n",
      "   9.19191919   9.39393939   9.5959596    9.7979798   10.        ]\n"
     ]
    }
   ],
   "source": [
    "X = np.linspace(-10, 10,100)\n",
    "print(f\"X array {X}\")\n",
    "Y1 = np.power(X, 2)\n",
    "Y2 = np.sin(X)\n",
    "Y3 = np.exp(X)\n",
    "Y4 = np.log(np.abs(X) + 1)"
   ]
  },
  {
   "cell_type": "code",
   "execution_count": 15,
   "metadata": {
    "colab": {
     "base_uri": "https://localhost:8080/",
     "height": 564
    },
    "id": "XU3nX8HU3Fz8",
    "outputId": "aa238bd2-5b27-40b1-afd5-c7a3e588e1a0"
   },
   "outputs": [
    {
     "data": {
      "image/png": "[encoded data removed]",
      "text/plain": [
       "<Figure size 1000x600 with 1 Axes>"
      ]
     },
     "metadata": {},
     "output_type": "display_data"
    }
   ],
   "source": [
    "import matplotlib.pyplot as plt\n",
    "plt.figure(figsize=(10, 6))\n",
    "plt.plot(X, Y1, label=r'$y = x^2$', color='b')\n",
    "plt.plot(X, Y2, label=r'$y = \\sin(x)$', color='g')\n",
    "plt.plot(X, Y3, label=r'$y = e^x$', color='r')\n",
    "plt.plot(X, Y4, label=r'$y = \\log(|x| + 1)$', color='m')\n",
    "plt.title(\"Plots of Different Mathematical Functions\")\n",
    "plt.xlabel(\"X values\")\n",
    "plt.ylabel(\"Y values\")\n",
    "plt.legend()\n",
    "plt.grid(True)\n",
    "plt.show()"
   ]
  },
  {
   "cell_type": "code",
   "execution_count": 49,
   "metadata": {
    "id": "aGLfgP4U6nJk"
   },
   "outputs": [],
   "source": []
  }
 ],
 "metadata": {
  "colab": {
   "provenance": []
  },
  "kernelspec": {
   "display_name": "Python 3 (ipykernel)",
   "language": "python",
   "name": "python3"
  },
  "language_info": {
   "codemirror_mode": {
    "name": "ipython",
    "version": 3
   },
   "file_extension": ".py",
   "mimetype": "text/x-python",
   "name": "python",
   "nbconvert_exporter": "python",
   "pygments_lexer": "ipython3",
   "version": "3.12.4"
  }
 },
 "nbformat": 4,
 "nbformat_minor": 4
}
